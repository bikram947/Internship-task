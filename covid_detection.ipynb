{
  "nbformat": 4,
  "nbformat_minor": 0,
  "metadata": {
    "accelerator": "GPU",
    "colab": {
      "name": "covid_detection.ipynb",
      "provenance": [],
      "collapsed_sections": [],
      "mount_file_id": "1MUHGyfpHKowdvVE8UbePmR_8kJ8cgt4U",
      "authorship_tag": "ABX9TyOPbPQ5zRaYLXKx3fwTOckE",
      "include_colab_link": true
    },
    "kernelspec": {
      "display_name": "Python 3",
      "name": "python3"
    }
  },
  "cells": [
    {
      "cell_type": "markdown",
      "metadata": {
        "id": "view-in-github",
        "colab_type": "text"
      },
      "source": [
        "<a href=\"https://colab.research.google.com/github/bikram947/Find-0-hop-and-1-hop-routes/blob/master/covid_detection.ipynb\" target=\"_parent\"><img src=\"https://colab.research.google.com/assets/colab-badge.svg\" alt=\"Open In Colab\"/></a>"
      ]
    },
    {
      "cell_type": "code",
      "metadata": {
        "id": "MstiqDqSDpSr"
      },
      "source": [
        "import os\n",
        "from pydrive.auth import GoogleAuth\n",
        "from pydrive.drive import GoogleDrive\n",
        "from google.colab import auth\n",
        "from oauth2client.client import GoogleCredentials"
      ],
      "execution_count": null,
      "outputs": []
    },
    {
      "cell_type": "code",
      "metadata": {
        "id": "W0_MfC6rD01G"
      },
      "source": [
        "auth.authenticate_user()\n",
        "gauth = GoogleAuth()\n",
        "gauth.credentials = GoogleCredentials.get_application_default()\n",
        "drive = GoogleDrive(gauth)"
      ],
      "execution_count": null,
      "outputs": []
    },
    {
      "cell_type": "code",
      "metadata": {
        "colab": {
          "base_uri": "https://localhost:8080/"
        },
        "id": "_AsS0rUcEA1R",
        "outputId": "bcb6745d-fca2-405f-ac6c-699292d2d121"
      },
      "source": [
        "download = drive.CreateFile({'id': '14_4PbKRNhIyFh5__-iFR8pLiDUJSu9xI'})\n",
        "download.GetContentFile('Covid_dataset.zip')\n",
        "#download.GetContentFile('TrainFolder.zip')\n",
        "!unzip Covid_dataset.zip"
      ],
      "execution_count": null,
      "outputs": [
        {
          "output_type": "stream",
          "text": [
            "Archive:  Covid_dataset.zip\n",
            "replace Covid-19 Image Dataset/test/Covid/0100.jpeg? [y]es, [n]o, [A]ll, [N]one, [r]ename: A\n",
            "  inflating: Covid-19 Image Dataset/test/Covid/0100.jpeg  \n",
            "  inflating: Covid-19 Image Dataset/test/Covid/0102.jpeg  \n",
            "  inflating: Covid-19 Image Dataset/test/Covid/0105.png  \n",
            "  inflating: Covid-19 Image Dataset/test/Covid/0106.jpeg  \n",
            "  inflating: Covid-19 Image Dataset/test/Covid/0108.jpeg  \n",
            "  inflating: Covid-19 Image Dataset/test/Covid/0111.jpg  \n",
            "  inflating: Covid-19 Image Dataset/test/Covid/0112.jpg  \n",
            "  inflating: Covid-19 Image Dataset/test/Covid/0113.jpg  \n",
            "  inflating: Covid-19 Image Dataset/test/Covid/0115.jpeg  \n",
            "  inflating: Covid-19 Image Dataset/test/Covid/0118.jpeg  \n",
            "  inflating: Covid-19 Image Dataset/test/Covid/0119.jpeg  \n",
            "  inflating: Covid-19 Image Dataset/test/Covid/0120.jpg  \n",
            "  inflating: Covid-19 Image Dataset/test/Covid/094.png  \n",
            "  inflating: Covid-19 Image Dataset/test/Covid/096.png  \n",
            "  inflating: Covid-19 Image Dataset/test/Covid/098.jpeg  \n",
            "  inflating: Covid-19 Image Dataset/test/Covid/auntminnie-2020_01_31_20_24_2322_2020_01_31_x-ray_coronavirus_US.jpg  \n",
            "  inflating: Covid-19 Image Dataset/test/Covid/auntminnie-a-2020_01_28_23_51_6665_2020_01_28_Vietnam_coronavirus.jpeg  \n",
            "  inflating: Covid-19 Image Dataset/test/Covid/auntminnie-b-2020_01_28_23_51_6665_2020_01_28_Vietnam_coronavirus.jpeg  \n",
            "  inflating: Covid-19 Image Dataset/test/Covid/auntminnie-c-2020_01_28_23_51_6665_2020_01_28_Vietnam_coronavirus.jpeg  \n",
            "  inflating: Covid-19 Image Dataset/test/Covid/auntminnie-d-2020_01_28_23_51_6665_2020_01_28_Vietnam_coronavirus.jpeg  \n",
            "  inflating: Covid-19 Image Dataset/test/Covid/COVID-00003b.jpg  \n",
            "  inflating: Covid-19 Image Dataset/test/Covid/COVID-00012.jpg  \n",
            "  inflating: Covid-19 Image Dataset/test/Covid/COVID-00022.jpg  \n",
            "  inflating: Covid-19 Image Dataset/test/Covid/COVID-00033.jpg  \n",
            "  inflating: Covid-19 Image Dataset/test/Covid/COVID-00037.jpg  \n",
            "  inflating: Covid-19 Image Dataset/test/Covid/radiopaedia-2019-novel-coronavirus-infected-pneumonia.jpg  \n",
            "  inflating: Covid-19 Image Dataset/test/Normal/0101.jpeg  \n",
            "  inflating: Covid-19 Image Dataset/test/Normal/0102.jpeg  \n",
            "  inflating: Covid-19 Image Dataset/test/Normal/0103.jpeg  \n",
            "  inflating: Covid-19 Image Dataset/test/Normal/0105.jpeg  \n",
            "  inflating: Covid-19 Image Dataset/test/Normal/0106.jpeg  \n",
            "  inflating: Covid-19 Image Dataset/test/Normal/0107.jpeg  \n",
            "  inflating: Covid-19 Image Dataset/test/Normal/0108.jpeg  \n",
            "  inflating: Covid-19 Image Dataset/test/Normal/0109.jpeg  \n",
            "  inflating: Covid-19 Image Dataset/test/Normal/0110.jpeg  \n",
            "  inflating: Covid-19 Image Dataset/test/Normal/0111.jpeg  \n",
            "  inflating: Covid-19 Image Dataset/test/Normal/0112.jpeg  \n",
            "  inflating: Covid-19 Image Dataset/test/Normal/0114.jpeg  \n",
            "  inflating: Covid-19 Image Dataset/test/Normal/0115.jpeg  \n",
            "  inflating: Covid-19 Image Dataset/test/Normal/0116.jpeg  \n",
            "  inflating: Covid-19 Image Dataset/test/Normal/0117.jpeg  \n",
            "  inflating: Covid-19 Image Dataset/test/Normal/0118.jpeg  \n",
            "  inflating: Covid-19 Image Dataset/test/Normal/0119.jpeg  \n",
            "  inflating: Covid-19 Image Dataset/test/Normal/0120.jpeg  \n",
            "  inflating: Covid-19 Image Dataset/test/Normal/0121.jpeg  \n",
            "  inflating: Covid-19 Image Dataset/test/Normal/0122.jpeg  \n",
            "  inflating: Covid-19 Image Dataset/test/Viral Pneumonia/0101.jpeg  \n",
            "  inflating: Covid-19 Image Dataset/test/Viral Pneumonia/0102.jpeg  \n",
            "  inflating: Covid-19 Image Dataset/test/Viral Pneumonia/0103.jpeg  \n",
            "  inflating: Covid-19 Image Dataset/test/Viral Pneumonia/0104.jpeg  \n",
            "  inflating: Covid-19 Image Dataset/test/Viral Pneumonia/0105.jpeg  \n",
            "  inflating: Covid-19 Image Dataset/test/Viral Pneumonia/0106.jpeg  \n",
            "  inflating: Covid-19 Image Dataset/test/Viral Pneumonia/0107.jpeg  \n",
            "  inflating: Covid-19 Image Dataset/test/Viral Pneumonia/0108.jpeg  \n",
            "  inflating: Covid-19 Image Dataset/test/Viral Pneumonia/0109.jpeg  \n",
            "  inflating: Covid-19 Image Dataset/test/Viral Pneumonia/0110.jpeg  \n",
            "  inflating: Covid-19 Image Dataset/test/Viral Pneumonia/0111.jpeg  \n",
            "  inflating: Covid-19 Image Dataset/test/Viral Pneumonia/0112.jpeg  \n",
            "  inflating: Covid-19 Image Dataset/test/Viral Pneumonia/0113.jpeg  \n",
            "  inflating: Covid-19 Image Dataset/test/Viral Pneumonia/0114.jpeg  \n",
            "  inflating: Covid-19 Image Dataset/test/Viral Pneumonia/0115.jpeg  \n",
            "  inflating: Covid-19 Image Dataset/test/Viral Pneumonia/0116.jpeg  \n",
            "  inflating: Covid-19 Image Dataset/test/Viral Pneumonia/0117.jpeg  \n",
            "  inflating: Covid-19 Image Dataset/test/Viral Pneumonia/0118.jpeg  \n",
            "  inflating: Covid-19 Image Dataset/test/Viral Pneumonia/0119.jpeg  \n",
            "  inflating: Covid-19 Image Dataset/test/Viral Pneumonia/0120.jpeg  \n",
            "  inflating: Covid-19 Image Dataset/train/Covid/01.jpeg  \n",
            "  inflating: Covid-19 Image Dataset/train/Covid/010.png  \n",
            "  inflating: Covid-19 Image Dataset/train/Covid/012.jpeg  \n",
            "  inflating: Covid-19 Image Dataset/train/Covid/015.jpg  \n",
            "  inflating: Covid-19 Image Dataset/train/Covid/019.png  \n",
            "  inflating: Covid-19 Image Dataset/train/Covid/02.jpeg  \n",
            "  inflating: Covid-19 Image Dataset/train/Covid/020.jpg  \n",
            "  inflating: Covid-19 Image Dataset/train/Covid/021.jpeg  \n",
            "  inflating: Covid-19 Image Dataset/train/Covid/022.jpeg  \n",
            "  inflating: Covid-19 Image Dataset/train/Covid/024.jpeg  \n",
            "  inflating: Covid-19 Image Dataset/train/Covid/025.jpeg  \n",
            "  inflating: Covid-19 Image Dataset/train/Covid/026.jpeg  \n",
            "  inflating: Covid-19 Image Dataset/train/Covid/027.jpeg  \n",
            "  inflating: Covid-19 Image Dataset/train/Covid/03.jpeg  \n",
            "  inflating: Covid-19 Image Dataset/train/Covid/031.jpeg  \n",
            "  inflating: Covid-19 Image Dataset/train/Covid/032.jpeg  \n",
            "  inflating: Covid-19 Image Dataset/train/Covid/033.png  \n",
            "  inflating: Covid-19 Image Dataset/train/Covid/039.jpeg  \n",
            "  inflating: Covid-19 Image Dataset/train/Covid/04.png  \n",
            "  inflating: Covid-19 Image Dataset/train/Covid/040.jpeg  \n",
            "  inflating: Covid-19 Image Dataset/train/Covid/041.jpeg  \n",
            "  inflating: Covid-19 Image Dataset/train/Covid/042.jpeg  \n",
            "  inflating: Covid-19 Image Dataset/train/Covid/043.jpeg  \n",
            "  inflating: Covid-19 Image Dataset/train/Covid/044.jpeg  \n",
            "  inflating: Covid-19 Image Dataset/train/Covid/045.jpeg  \n",
            "  inflating: Covid-19 Image Dataset/train/Covid/046.jpeg  \n",
            "  inflating: Covid-19 Image Dataset/train/Covid/047.jpeg  \n",
            "  inflating: Covid-19 Image Dataset/train/Covid/048.jpeg  \n",
            "  inflating: Covid-19 Image Dataset/train/Covid/049.jpeg  \n",
            "  inflating: Covid-19 Image Dataset/train/Covid/050.jpeg  \n",
            "  inflating: Covid-19 Image Dataset/train/Covid/051.jpeg  \n",
            "  inflating: Covid-19 Image Dataset/train/Covid/052.jpeg  \n",
            "  inflating: Covid-19 Image Dataset/train/Covid/053.jpeg  \n",
            "  inflating: Covid-19 Image Dataset/train/Covid/054.jpeg  \n",
            "  inflating: Covid-19 Image Dataset/train/Covid/055.jpeg  \n",
            "  inflating: Covid-19 Image Dataset/train/Covid/056.jpg  \n",
            "  inflating: Covid-19 Image Dataset/train/Covid/057.jpeg  \n",
            "  inflating: Covid-19 Image Dataset/train/Covid/058.jpeg  \n",
            "  inflating: Covid-19 Image Dataset/train/Covid/059.jpeg  \n",
            "  inflating: Covid-19 Image Dataset/train/Covid/06.jpeg  \n",
            "  inflating: Covid-19 Image Dataset/train/Covid/060.jpeg  \n",
            "  inflating: Covid-19 Image Dataset/train/Covid/061.jpg  \n",
            "  inflating: Covid-19 Image Dataset/train/Covid/062.jpeg  \n",
            "  inflating: Covid-19 Image Dataset/train/Covid/064.jpg  \n",
            "  inflating: Covid-19 Image Dataset/train/Covid/065.jpeg  \n",
            "  inflating: Covid-19 Image Dataset/train/Covid/067.jpg  \n",
            "  inflating: Covid-19 Image Dataset/train/Covid/068.jpg  \n",
            "  inflating: Covid-19 Image Dataset/train/Covid/069.jpg  \n",
            "  inflating: Covid-19 Image Dataset/train/Covid/07.jpg  \n",
            "  inflating: Covid-19 Image Dataset/train/Covid/071.jpg  \n",
            "  inflating: Covid-19 Image Dataset/train/Covid/072.jpeg  \n",
            "  inflating: Covid-19 Image Dataset/train/Covid/073.jpg  \n",
            "  inflating: Covid-19 Image Dataset/train/Covid/074.jpg  \n",
            "  inflating: Covid-19 Image Dataset/train/Covid/076.jpg  \n",
            "  inflating: Covid-19 Image Dataset/train/Covid/078.jpeg  \n",
            "  inflating: Covid-19 Image Dataset/train/Covid/079.jpeg  \n",
            "  inflating: Covid-19 Image Dataset/train/Covid/08.jpeg  \n",
            "  inflating: Covid-19 Image Dataset/train/Covid/080.jpg  \n",
            "  inflating: Covid-19 Image Dataset/train/Covid/081.jpeg  \n",
            "  inflating: Covid-19 Image Dataset/train/Covid/082.jpg  \n",
            "  inflating: Covid-19 Image Dataset/train/Covid/083.jpeg  \n",
            "  inflating: Covid-19 Image Dataset/train/Covid/084.jpeg  \n",
            "  inflating: Covid-19 Image Dataset/train/Covid/085.jpeg  \n",
            "  inflating: Covid-19 Image Dataset/train/Covid/086.jpg  \n",
            "  inflating: Covid-19 Image Dataset/train/Covid/088.jpeg  \n",
            "  inflating: Covid-19 Image Dataset/train/Covid/089.jpg  \n",
            "  inflating: Covid-19 Image Dataset/train/Covid/09.png  \n",
            "  inflating: Covid-19 Image Dataset/train/Covid/090.jpeg  \n",
            "  inflating: Covid-19 Image Dataset/train/Covid/091.jpg  \n",
            "  inflating: Covid-19 Image Dataset/train/Covid/092.png  \n",
            "  inflating: Covid-19 Image Dataset/train/Covid/COVID-00001.jpg  \n",
            "  inflating: Covid-19 Image Dataset/train/Covid/COVID-00002.jpg  \n",
            "  inflating: Covid-19 Image Dataset/train/Covid/COVID-00003a.jpg  \n",
            "  inflating: Covid-19 Image Dataset/train/Covid/COVID-00003b.jpg  \n",
            "  inflating: Covid-19 Image Dataset/train/Covid/COVID-00004.jpg  \n",
            "  inflating: Covid-19 Image Dataset/train/Covid/COVID-00005.jpg  \n",
            "  inflating: Covid-19 Image Dataset/train/Covid/COVID-00006.jpg  \n",
            "  inflating: Covid-19 Image Dataset/train/Covid/COVID-00007.jpg  \n",
            "  inflating: Covid-19 Image Dataset/train/Covid/COVID-00008.jpg  \n",
            "  inflating: Covid-19 Image Dataset/train/Covid/COVID-00009.jpg  \n",
            "  inflating: Covid-19 Image Dataset/train/Covid/COVID-00010.jpg  \n",
            "  inflating: Covid-19 Image Dataset/train/Covid/COVID-00011.jpg  \n",
            "  inflating: Covid-19 Image Dataset/train/Covid/COVID-00012.jpg  \n",
            "  inflating: Covid-19 Image Dataset/train/Covid/COVID-00013a.jpg  \n",
            "  inflating: Covid-19 Image Dataset/train/Covid/COVID-00013b.jpg  \n",
            "  inflating: Covid-19 Image Dataset/train/Covid/COVID-00014.jpg  \n",
            "  inflating: Covid-19 Image Dataset/train/Covid/COVID-00015a.png  \n",
            "  inflating: Covid-19 Image Dataset/train/Covid/COVID-00015b.png  \n",
            "  inflating: Covid-19 Image Dataset/train/Covid/COVID-00016.jpg  \n",
            "  inflating: Covid-19 Image Dataset/train/Covid/COVID-00017.jpg  \n",
            "  inflating: Covid-19 Image Dataset/train/Covid/COVID-00018.jpg  \n",
            "  inflating: Covid-19 Image Dataset/train/Covid/COVID-00019.jpg  \n",
            "  inflating: Covid-19 Image Dataset/train/Covid/COVID-00020.jpg  \n",
            "  inflating: Covid-19 Image Dataset/train/Covid/COVID-00021.jpg  \n",
            "  inflating: Covid-19 Image Dataset/train/Covid/COVID-00022.jpg  \n",
            "  inflating: Covid-19 Image Dataset/train/Covid/COVID-00023.jpg  \n",
            "  inflating: Covid-19 Image Dataset/train/Covid/COVID-00024.jpg  \n",
            "  inflating: Covid-19 Image Dataset/train/Covid/COVID-00025.jpg  \n",
            "  inflating: Covid-19 Image Dataset/train/Covid/COVID-00026.jpg  \n",
            "  inflating: Covid-19 Image Dataset/train/Covid/COVID-00027.jpg  \n",
            "  inflating: Covid-19 Image Dataset/train/Covid/COVID-00028.jpg  \n",
            "  inflating: Covid-19 Image Dataset/train/Covid/COVID-00029.jpg  \n",
            "  inflating: Covid-19 Image Dataset/train/Covid/COVID-00030.jpg  \n",
            "  inflating: Covid-19 Image Dataset/train/Covid/COVID-00031.jpg  \n",
            "  inflating: Covid-19 Image Dataset/train/Covid/COVID-00032.jpg  \n",
            "  inflating: Covid-19 Image Dataset/train/Covid/COVID-00033.jpg  \n",
            "  inflating: Covid-19 Image Dataset/train/Covid/COVID-00034.jpg  \n",
            "  inflating: Covid-19 Image Dataset/train/Covid/COVID-00035.jpg  \n",
            "  inflating: Covid-19 Image Dataset/train/Covid/COVID-00036.jpg  \n",
            "  inflating: Covid-19 Image Dataset/train/Covid/COVID-00037.jpg  \n",
            "  inflating: Covid-19 Image Dataset/train/Covid/COVID-00038.jpg  \n",
            "  inflating: Covid-19 Image Dataset/train/Normal/01.jpeg  \n",
            "  inflating: Covid-19 Image Dataset/train/Normal/010.jpeg  \n",
            "  inflating: Covid-19 Image Dataset/train/Normal/011.jpeg  \n",
            "  inflating: Covid-19 Image Dataset/train/Normal/012.jpeg  \n",
            "  inflating: Covid-19 Image Dataset/train/Normal/013.jpeg  \n",
            "  inflating: Covid-19 Image Dataset/train/Normal/014.jpeg  \n",
            "  inflating: Covid-19 Image Dataset/train/Normal/015.jpeg  \n",
            "  inflating: Covid-19 Image Dataset/train/Normal/016.jpeg  \n",
            "  inflating: Covid-19 Image Dataset/train/Normal/017.jpeg  \n",
            "  inflating: Covid-19 Image Dataset/train/Normal/018.jpeg  \n",
            "  inflating: Covid-19 Image Dataset/train/Normal/019.jpeg  \n",
            "  inflating: Covid-19 Image Dataset/train/Normal/02.jpeg  \n",
            "  inflating: Covid-19 Image Dataset/train/Normal/020.jpeg  \n",
            "  inflating: Covid-19 Image Dataset/train/Normal/021.jpeg  \n",
            "  inflating: Covid-19 Image Dataset/train/Normal/022.jpeg  \n",
            "  inflating: Covid-19 Image Dataset/train/Normal/023.jpeg  \n",
            "  inflating: Covid-19 Image Dataset/train/Normal/024.jpeg  \n",
            "  inflating: Covid-19 Image Dataset/train/Normal/025.jpeg  \n",
            "  inflating: Covid-19 Image Dataset/train/Normal/03.jpeg  \n",
            "  inflating: Covid-19 Image Dataset/train/Normal/04.jpeg  \n",
            "  inflating: Covid-19 Image Dataset/train/Normal/05.jpeg  \n",
            "  inflating: Covid-19 Image Dataset/train/Normal/050.jpeg  \n",
            "  inflating: Covid-19 Image Dataset/train/Normal/051.jpeg  \n",
            "  inflating: Covid-19 Image Dataset/train/Normal/052.jpeg  \n",
            "  inflating: Covid-19 Image Dataset/train/Normal/053.jpeg  \n",
            "  inflating: Covid-19 Image Dataset/train/Normal/054.jpeg  \n",
            "  inflating: Covid-19 Image Dataset/train/Normal/055.jpeg  \n",
            "  inflating: Covid-19 Image Dataset/train/Normal/056.jpeg  \n",
            "  inflating: Covid-19 Image Dataset/train/Normal/057.jpeg  \n",
            "  inflating: Covid-19 Image Dataset/train/Normal/058.jpeg  \n",
            "  inflating: Covid-19 Image Dataset/train/Normal/059.jpeg  \n",
            "  inflating: Covid-19 Image Dataset/train/Normal/06.jpeg  \n",
            "  inflating: Covid-19 Image Dataset/train/Normal/060.jpeg  \n",
            "  inflating: Covid-19 Image Dataset/train/Normal/061.jpeg  \n",
            "  inflating: Covid-19 Image Dataset/train/Normal/062.jpeg  \n",
            "  inflating: Covid-19 Image Dataset/train/Normal/063.jpeg  \n",
            "  inflating: Covid-19 Image Dataset/train/Normal/064.jpeg  \n",
            "  inflating: Covid-19 Image Dataset/train/Normal/065.jpeg  \n",
            "  inflating: Covid-19 Image Dataset/train/Normal/066.jpeg  \n",
            "  inflating: Covid-19 Image Dataset/train/Normal/067.jpeg  \n",
            "  inflating: Covid-19 Image Dataset/train/Normal/068.jpeg  \n",
            "  inflating: Covid-19 Image Dataset/train/Normal/069.jpeg  \n",
            "  inflating: Covid-19 Image Dataset/train/Normal/07.jpeg  \n",
            "  inflating: Covid-19 Image Dataset/train/Normal/070.jpeg  \n",
            "  inflating: Covid-19 Image Dataset/train/Normal/071.jpeg  \n",
            "  inflating: Covid-19 Image Dataset/train/Normal/072.jpeg  \n",
            "  inflating: Covid-19 Image Dataset/train/Normal/073.jpeg  \n",
            "  inflating: Covid-19 Image Dataset/train/Normal/074.jpeg  \n",
            "  inflating: Covid-19 Image Dataset/train/Normal/075.jpeg  \n",
            "  inflating: Covid-19 Image Dataset/train/Normal/076.jpeg  \n",
            "  inflating: Covid-19 Image Dataset/train/Normal/077.jpeg  \n",
            "  inflating: Covid-19 Image Dataset/train/Normal/079.jpeg  \n",
            "  inflating: Covid-19 Image Dataset/train/Normal/08.jpeg  \n",
            "  inflating: Covid-19 Image Dataset/train/Normal/080.jpeg  \n",
            "  inflating: Covid-19 Image Dataset/train/Normal/081.jpeg  \n",
            "  inflating: Covid-19 Image Dataset/train/Normal/082.jpeg  \n",
            "  inflating: Covid-19 Image Dataset/train/Normal/083.jpeg  \n",
            "  inflating: Covid-19 Image Dataset/train/Normal/084.jpeg  \n",
            "  inflating: Covid-19 Image Dataset/train/Normal/085.jpeg  \n",
            "  inflating: Covid-19 Image Dataset/train/Normal/086.jpeg  \n",
            "  inflating: Covid-19 Image Dataset/train/Normal/087.jpeg  \n",
            "  inflating: Covid-19 Image Dataset/train/Normal/088.jpeg  \n",
            "  inflating: Covid-19 Image Dataset/train/Normal/09.jpeg  \n",
            "  inflating: Covid-19 Image Dataset/train/Normal/091.jpeg  \n",
            "  inflating: Covid-19 Image Dataset/train/Normal/092.jpeg  \n",
            "  inflating: Covid-19 Image Dataset/train/Normal/093.jpeg  \n",
            "  inflating: Covid-19 Image Dataset/train/Normal/094.jpeg  \n",
            "  inflating: Covid-19 Image Dataset/train/Normal/095.jpeg  \n",
            "  inflating: Covid-19 Image Dataset/train/Normal/096.jpeg  \n",
            "  inflating: Covid-19 Image Dataset/train/Normal/097.jpeg  \n",
            "  inflating: Covid-19 Image Dataset/train/Viral Pneumonia/01.jpeg  \n",
            "  inflating: Covid-19 Image Dataset/train/Viral Pneumonia/010.jpeg  \n",
            "  inflating: Covid-19 Image Dataset/train/Viral Pneumonia/011.jpeg  \n",
            "  inflating: Covid-19 Image Dataset/train/Viral Pneumonia/012.jpeg  \n",
            "  inflating: Covid-19 Image Dataset/train/Viral Pneumonia/013.jpeg  \n",
            "  inflating: Covid-19 Image Dataset/train/Viral Pneumonia/016.jpeg  \n",
            "  inflating: Covid-19 Image Dataset/train/Viral Pneumonia/018.jpeg  \n",
            "  inflating: Covid-19 Image Dataset/train/Viral Pneumonia/019.jpeg  \n",
            "  inflating: Covid-19 Image Dataset/train/Viral Pneumonia/02.jpeg  \n",
            "  inflating: Covid-19 Image Dataset/train/Viral Pneumonia/020.jpeg  \n",
            "  inflating: Covid-19 Image Dataset/train/Viral Pneumonia/021.jpeg  \n",
            "  inflating: Covid-19 Image Dataset/train/Viral Pneumonia/022.jpeg  \n",
            "  inflating: Covid-19 Image Dataset/train/Viral Pneumonia/023.jpeg  \n",
            "  inflating: Covid-19 Image Dataset/train/Viral Pneumonia/024.jpeg  \n",
            "  inflating: Covid-19 Image Dataset/train/Viral Pneumonia/025.jpeg  \n",
            "  inflating: Covid-19 Image Dataset/train/Viral Pneumonia/027.jpeg  \n",
            "  inflating: Covid-19 Image Dataset/train/Viral Pneumonia/03.jpeg  \n",
            "  inflating: Covid-19 Image Dataset/train/Viral Pneumonia/031.jpeg  \n",
            "  inflating: Covid-19 Image Dataset/train/Viral Pneumonia/032.jpeg  \n",
            "  inflating: Covid-19 Image Dataset/train/Viral Pneumonia/033.jpeg  \n",
            "  inflating: Covid-19 Image Dataset/train/Viral Pneumonia/034.jpeg  \n",
            "  inflating: Covid-19 Image Dataset/train/Viral Pneumonia/035.jpeg  \n",
            "  inflating: Covid-19 Image Dataset/train/Viral Pneumonia/036.jpeg  \n",
            "  inflating: Covid-19 Image Dataset/train/Viral Pneumonia/037.jpeg  \n",
            "  inflating: Covid-19 Image Dataset/train/Viral Pneumonia/038.jpeg  \n",
            "  inflating: Covid-19 Image Dataset/train/Viral Pneumonia/04.jpeg  \n",
            "  inflating: Covid-19 Image Dataset/train/Viral Pneumonia/041.jpeg  \n",
            "  inflating: Covid-19 Image Dataset/train/Viral Pneumonia/042.jpeg  \n",
            "  inflating: Covid-19 Image Dataset/train/Viral Pneumonia/043.jpeg  \n",
            "  inflating: Covid-19 Image Dataset/train/Viral Pneumonia/044.jpeg  \n",
            "  inflating: Covid-19 Image Dataset/train/Viral Pneumonia/045.jpeg  \n",
            "  inflating: Covid-19 Image Dataset/train/Viral Pneumonia/046.jpeg  \n",
            "  inflating: Covid-19 Image Dataset/train/Viral Pneumonia/047.jpeg  \n",
            "  inflating: Covid-19 Image Dataset/train/Viral Pneumonia/048.jpeg  \n",
            "  inflating: Covid-19 Image Dataset/train/Viral Pneumonia/05.jpeg  \n",
            "  inflating: Covid-19 Image Dataset/train/Viral Pneumonia/051.jpeg  \n",
            "  inflating: Covid-19 Image Dataset/train/Viral Pneumonia/052.jpeg  \n",
            "  inflating: Covid-19 Image Dataset/train/Viral Pneumonia/053.jpeg  \n",
            "  inflating: Covid-19 Image Dataset/train/Viral Pneumonia/054.jpeg  \n",
            "  inflating: Covid-19 Image Dataset/train/Viral Pneumonia/055.jpeg  \n",
            "  inflating: Covid-19 Image Dataset/train/Viral Pneumonia/056.jpeg  \n",
            "  inflating: Covid-19 Image Dataset/train/Viral Pneumonia/057.jpeg  \n",
            "  inflating: Covid-19 Image Dataset/train/Viral Pneumonia/058.jpeg  \n",
            "  inflating: Covid-19 Image Dataset/train/Viral Pneumonia/06.jpeg  \n",
            "  inflating: Covid-19 Image Dataset/train/Viral Pneumonia/061.jpeg  \n",
            "  inflating: Covid-19 Image Dataset/train/Viral Pneumonia/062.jpeg  \n",
            "  inflating: Covid-19 Image Dataset/train/Viral Pneumonia/063.jpeg  \n",
            "  inflating: Covid-19 Image Dataset/train/Viral Pneumonia/064.jpeg  \n",
            "  inflating: Covid-19 Image Dataset/train/Viral Pneumonia/065.jpeg  \n",
            "  inflating: Covid-19 Image Dataset/train/Viral Pneumonia/066.jpeg  \n",
            "  inflating: Covid-19 Image Dataset/train/Viral Pneumonia/067.jpeg  \n",
            "  inflating: Covid-19 Image Dataset/train/Viral Pneumonia/068.jpeg  \n",
            "  inflating: Covid-19 Image Dataset/train/Viral Pneumonia/07.jpeg  \n",
            "  inflating: Covid-19 Image Dataset/train/Viral Pneumonia/071.jpeg  \n",
            "  inflating: Covid-19 Image Dataset/train/Viral Pneumonia/072.jpeg  \n",
            "  inflating: Covid-19 Image Dataset/train/Viral Pneumonia/073.jpeg  \n",
            "  inflating: Covid-19 Image Dataset/train/Viral Pneumonia/074.jpeg  \n",
            "  inflating: Covid-19 Image Dataset/train/Viral Pneumonia/075.jpeg  \n",
            "  inflating: Covid-19 Image Dataset/train/Viral Pneumonia/076.jpeg  \n",
            "  inflating: Covid-19 Image Dataset/train/Viral Pneumonia/077.jpeg  \n",
            "  inflating: Covid-19 Image Dataset/train/Viral Pneumonia/078.jpeg  \n",
            "  inflating: Covid-19 Image Dataset/train/Viral Pneumonia/08.jpeg  \n",
            "  inflating: Covid-19 Image Dataset/train/Viral Pneumonia/081.jpeg  \n",
            "  inflating: Covid-19 Image Dataset/train/Viral Pneumonia/082.jpeg  \n",
            "  inflating: Covid-19 Image Dataset/train/Viral Pneumonia/083.jpeg  \n",
            "  inflating: Covid-19 Image Dataset/train/Viral Pneumonia/084.jpeg  \n",
            "  inflating: Covid-19 Image Dataset/train/Viral Pneumonia/09.jpeg  \n",
            "  inflating: Covid-19 Image Dataset/train/Viral Pneumonia/094.jpeg  \n",
            "  inflating: Covid-19 Image Dataset/train/Viral Pneumonia/095.jpeg  \n",
            "  inflating: Covid-19 Image Dataset/train/Viral Pneumonia/096.jpeg  \n"
          ],
          "name": "stdout"
        }
      ]
    },
    {
      "cell_type": "code",
      "metadata": {
        "id": "3uMu28ZkdV0t"
      },
      "source": [
        "import numpy as np \n",
        "import pandas as pd\n",
        "import matplotlib.pyplot as plt \n",
        "import keras \n",
        "\n",
        "from sklearn.model_selection import train_test_split \n",
        "#from keras.utils import to_categorical \n",
        "\n",
        "from keras.models import Sequential \n",
        "from keras.layers import Conv2D, MaxPooling2D \n",
        "from keras.layers import Dense, Dropout \n",
        "from keras.layers import Flatten, BatchNormalization\n",
        "\n",
        "import cv2"
      ],
      "execution_count": null,
      "outputs": []
    },
    {
      "cell_type": "code",
      "metadata": {
        "id": "ouwRsk6BdmcS"
      },
      "source": [
        "def load_images_from_folder(folder):\n",
        "    images = []\n",
        "    for filename in os.listdir(folder):\n",
        "        img = cv2.imread(os.path.join(folder,filename),0)\n",
        "        if img is not None:\n",
        "            images.append(img)\n",
        "    return images\n",
        "\n",
        "'''\n",
        "We are intentionally combining the train and test data sets.\n",
        "So that we can vary the ratio as and when required directly from the code itself.\n",
        "'''\n",
        "\n",
        "\n",
        "folder1=r\"/content/Covid-19 Image Dataset/test/Covid\"\n",
        "folder2=r\"/content/Covid-19 Image Dataset/test/Normal\"\n",
        "folder3=r\"/content/Covid-19 Image Dataset/test/Viral Pneumonia\"\n",
        "folder4=r\"/content/Covid-19 Image Dataset/train/Covid\"\n",
        "folder5=r\"/content/Covid-19 Image Dataset/train/Normal\"\n",
        "folder6=r\"/content/Covid-19 Image Dataset/train/Viral Pneumonia\"\n",
        "\n",
        "li1=load_images_from_folder(folder1)\n",
        "li2=load_images_from_folder(folder2)\n",
        "li3=load_images_from_folder(folder3)\n",
        "li4=load_images_from_folder(folder4)\n",
        "li5=load_images_from_folder(folder5)\n",
        "li6=load_images_from_folder(folder6)\n",
        "#print(li1)\n",
        "\n",
        "li=li1+li2+li3+li4+li5+li6\n",
        "n=len(li)"
      ],
      "execution_count": null,
      "outputs": []
    },
    {
      "cell_type": "code",
      "metadata": {
        "id": "wPxkwcfzEDpS"
      },
      "source": [
        "lab1=[]\n",
        "\n",
        "#Since there are only 3 categories, we have directly used the one-hot encoded values for 1,2 and 3\n",
        "\n",
        "for i in range(len(li1)):\n",
        "    lab1.append([1,0,0])\n",
        "for i in range(len(li2)):\n",
        "    lab1.append([0,1,0])\n",
        "for i in range(len(li3)):\n",
        "    lab1.append([0,0,1])\n",
        "for i in range(len(li4)):\n",
        "    lab1.append([1,0,0])\n",
        "for i in range(len(li5)):\n",
        "    lab1.append([0,1,0])\n",
        "for i in range(len(li6)):\n",
        "    lab1.append([0,0,1])"
      ],
      "execution_count": null,
      "outputs": []
    },
    {
      "cell_type": "code",
      "metadata": {
        "id": "zkg8gMDnuZSw"
      },
      "source": [
        "for i in range(n):\n",
        " li[i]=cv2.resize(li[i],(480,640))\n",
        " li[i]=li[i]/255.0\n",
        "\n",
        "li = np.array(li)\n",
        "li = li.reshape(li.shape + (1,))\n",
        "\n",
        "lab1 = np.asarray(lab1).astype('int32')"
      ],
      "execution_count": null,
      "outputs": []
    },
    {
      "cell_type": "code",
      "metadata": {
        "id": "UAIn1RNdu1PS"
      },
      "source": [
        "def baseline_model():\n",
        "    model = Sequential()\n",
        "    model.add(BatchNormalization(input_shape=(640,480,1)))\n",
        "    model.add(Conv2D(32, (3, 3), padding='same', activation='relu'))\n",
        "    model.add(MaxPooling2D(pool_size=(2, 2), strides=(2,2)))\n",
        "    model.add(Dropout(0.25))\n",
        "    \n",
        "    model.add(BatchNormalization())\n",
        "    model.add(Conv2D(64, (3, 3), padding='same', activation='relu'))\n",
        "    model.add(MaxPooling2D(pool_size=(2, 2)))\n",
        "    model.add(Dropout(0.25))\n",
        "\n",
        "    model.add(Flatten())\n",
        "    model.add(Dense(128, activation='relu'))\n",
        "    model.add(Dropout(0.5))\n",
        "    model.add(Dense(3, activation='softmax'))\n",
        "    return model\n",
        "\n",
        "model = baseline_model()\n",
        "model.compile(loss='categorical_crossentropy', optimizer='adadelta', metrics=['accuracy'])\n",
        "\n"
      ],
      "execution_count": null,
      "outputs": []
    },
    {
      "cell_type": "code",
      "metadata": {
        "colab": {
          "base_uri": "https://localhost:8080/"
        },
        "id": "glQT7g1jy1ux",
        "outputId": "2a9b1548-851f-4615-f226-11526fa58f33"
      },
      "source": [
        "model.summary()"
      ],
      "execution_count": null,
      "outputs": [
        {
          "output_type": "stream",
          "text": [
            "Model: \"sequential\"\n",
            "_________________________________________________________________\n",
            "Layer (type)                 Output Shape              Param #   \n",
            "=================================================================\n",
            "batch_normalization (BatchNo (None, 640, 480, 1)       4         \n",
            "_________________________________________________________________\n",
            "conv2d (Conv2D)              (None, 640, 480, 32)      320       \n",
            "_________________________________________________________________\n",
            "max_pooling2d (MaxPooling2D) (None, 320, 240, 32)      0         \n",
            "_________________________________________________________________\n",
            "dropout (Dropout)            (None, 320, 240, 32)      0         \n",
            "_________________________________________________________________\n",
            "batch_normalization_1 (Batch (None, 320, 240, 32)      128       \n",
            "_________________________________________________________________\n",
            "conv2d_1 (Conv2D)            (None, 320, 240, 64)      18496     \n",
            "_________________________________________________________________\n",
            "max_pooling2d_1 (MaxPooling2 (None, 160, 120, 64)      0         \n",
            "_________________________________________________________________\n",
            "dropout_1 (Dropout)          (None, 160, 120, 64)      0         \n",
            "_________________________________________________________________\n",
            "flatten (Flatten)            (None, 1228800)           0         \n",
            "_________________________________________________________________\n",
            "dense (Dense)                (None, 128)               157286528 \n",
            "_________________________________________________________________\n",
            "dropout_2 (Dropout)          (None, 128)               0         \n",
            "_________________________________________________________________\n",
            "dense_1 (Dense)              (None, 3)                 387       \n",
            "=================================================================\n",
            "Total params: 157,305,863\n",
            "Trainable params: 157,305,797\n",
            "Non-trainable params: 66\n",
            "_________________________________________________________________\n"
          ],
          "name": "stdout"
        }
      ]
    },
    {
      "cell_type": "code",
      "metadata": {
        "colab": {
          "background_save": true,
          "base_uri": "https://localhost:8080/"
        },
        "id": "9IbENI_Hu2XN",
        "outputId": "cc30de16-885e-4c24-a8bb-7b8ec77cdf12"
      },
      "source": [
        "X_train, X_test, y_train, y_test = train_test_split(li, lab1, test_size=0.20)\n",
        "\n",
        "history = model.fit(X_train, y_train,\n",
        "          batch_size=32,\n",
        "          epochs=10,\n",
        "          verbose=1,\n",
        "          validation_data=(X_test, y_test))\n"
      ],
      "execution_count": null,
      "outputs": [
        {
          "output_type": "stream",
          "text": [
            "Epoch 1/10\n",
            "8/8 [==============================] - 160s 17s/step - loss: 1.5953 - accuracy: 0.4371 - val_loss: 1.0824 - val_accuracy: 0.4062\n",
            "Epoch 2/10\n",
            "8/8 [==============================] - 136s 17s/step - loss: 0.8057 - accuracy: 0.6477 - val_loss: 1.0597 - val_accuracy: 0.6250\n",
            "Epoch 3/10\n",
            "8/8 [==============================] - 136s 17s/step - loss: 0.5611 - accuracy: 0.7701 - val_loss: 1.0412 - val_accuracy: 0.7656\n",
            "Epoch 4/10\n",
            "8/8 [==============================] - 136s 17s/step - loss: 0.5180 - accuracy: 0.7804 - val_loss: 1.0328 - val_accuracy: 0.7500\n",
            "Epoch 5/10\n",
            "8/8 [==============================] - 135s 17s/step - loss: 0.3784 - accuracy: 0.8798 - val_loss: 1.0073 - val_accuracy: 0.9062\n",
            "Epoch 6/10\n",
            "8/8 [==============================] - 136s 17s/step - loss: 0.3783 - accuracy: 0.8370 - val_loss: 0.9841 - val_accuracy: 0.7969\n",
            "Epoch 7/10\n",
            "8/8 [==============================] - 135s 17s/step - loss: 0.2812 - accuracy: 0.9014 - val_loss: 0.9735 - val_accuracy: 0.8750\n",
            "Epoch 8/10\n",
            "8/8 [==============================] - 138s 17s/step - loss: 0.2581 - accuracy: 0.9228 - val_loss: 0.9529 - val_accuracy: 0.8281\n",
            "Epoch 9/10\n",
            "8/8 [==============================] - 136s 17s/step - loss: 0.2160 - accuracy: 0.9202 - val_loss: 0.9258 - val_accuracy: 0.7969\n",
            "Epoch 10/10\n",
            "8/8 [==============================] - 137s 17s/step - loss: 0.2311 - accuracy: 0.9092 - val_loss: 0.9159 - val_accuracy: 0.9062\n"
          ],
          "name": "stdout"
        }
      ]
    },
    {
      "cell_type": "code",
      "metadata": {
        "colab": {
          "background_save": true
        },
        "id": "GrcgYHybkQ9i",
        "outputId": "696e1975-2e0e-4296-90f1-18a7e504f001"
      },
      "source": [
        "loss_train = history.history['loss']\n",
        "loss_val = history.history['val_loss']\n",
        "epochs = range(1,11)\n",
        "plt.plot(epochs, loss_train, 'g', label='Training loss')\n",
        "plt.plot(epochs, loss_val, 'b', label='validation loss')\n",
        "plt.title('Training and Validation loss')\n",
        "plt.xlabel('Epochs')\n",
        "plt.ylabel('Loss')\n",
        "plt.legend()\n",
        "plt.show()"
      ],
      "execution_count": null,
      "outputs": [
        {
          "output_type": "display_data",
          "data": {
            "image/png": "[encoded data removed]",
            "text/plain": [
              "<Figure size 432x288 with 1 Axes>"
            ]
          },
          "metadata": {
            "tags": []
          }
        }
      ]
    },
    {
      "cell_type": "code",
      "metadata": {
        "colab": {
          "background_save": true
        },
        "id": "kYdE0Y7flBLi",
        "outputId": "7f73cdc2-5186-43d2-e1a4-6f5f4a1fee6e"
      },
      "source": [
        "loss_train = history.history['accuracy']\n",
        "loss_val = history.history['val_accuracy']\n",
        "epochs = range(1,11)\n",
        "plt.plot(epochs, loss_train, 'g', label='Training accuracy')\n",
        "plt.plot(epochs, loss_val, 'b', label='validation accuracy')\n",
        "plt.title('Training and Validation accuracy')\n",
        "plt.xlabel('Epochs')\n",
        "plt.ylabel('Accuracy')\n",
        "plt.legend()\n",
        "plt.show()"
      ],
      "execution_count": null,
      "outputs": [
        {
          "output_type": "display_data",
          "data": {
            "image/png": "[encoded data removed]",
            "text/plain": [
              "<Figure size 432x288 with 1 Axes>"
            ]
          },
          "metadata": {
            "tags": []
          }
        }
      ]
    },
    {
      "cell_type": "code",
      "metadata": {
        "colab": {
          "background_save": true
        },
        "id": "7Mkk21nsjo5b",
        "outputId": "2a3d84d0-1bfd-4ae0-ae4c-fd1954c94159"
      },
      "source": [
        "y_pred=model.predict(X_test)\n",
        "y_pred=np.array(y_pred)\n",
        "y_test=np.array(y_test)\n",
        "y_pred_=[]\n",
        "y_test_=[]\n",
        "for i in range(len(y_pred)):\n",
        "  m=max(y_pred[i])\n",
        "  for j in range(3):\n",
        "    if(y_pred[i][j]==m):\n",
        "      y_pred_.append(j)\n",
        "      break\n",
        "for i in range(len(y_test)):\n",
        "  for j in range(3):\n",
        "    if(y_test[i][j]==1):\n",
        "      y_test_.append(j)\n",
        "      break\n",
        "#print(y_test_)\n",
        "#print(y_pred_)\n",
        "from sklearn.metrics import confusion_matrix\n",
        "cm=confusion_matrix(y_test_, y_pred_)\n",
        "\n",
        "import seaborn as sns\n",
        "sns.heatmap(cm,cmap=\"plasma\",annot=True)"
      ],
      "execution_count": null,
      "outputs": [
        {
          "output_type": "execute_result",
          "data": {
            "text/plain": [
              "<matplotlib.axes._subplots.AxesSubplot at 0x7f4cd342c610>"
            ]
          },
          "metadata": {
            "tags": []
          },
          "execution_count": 0
        },
        {
          "output_type": "display_data",
          "data": {
            "image/png": "[encoded data removed]",
            "text/plain": [
              "<Figure size 432x288 with 2 Axes>"
            ]
          },
          "metadata": {
            "tags": []
          }
        }
      ]
    },
    {
      "cell_type": "code",
      "metadata": {
        "colab": {
          "background_save": true
        },
        "id": "CILrvvEV-mjr"
      },
      "source": [
        "model.save('my_model.h5')"
      ],
      "execution_count": null,
      "outputs": []
    },
    {
      "cell_type": "code",
      "metadata": {
        "colab": {
          "background_save": true
        },
        "id": "JZ_drfDY_QZV"
      },
      "source": [
        "new_model=keras.models.load_model('my_model.h5')"
      ],
      "execution_count": null,
      "outputs": []
    },
    {
      "cell_type": "code",
      "metadata": {
        "colab": {
          "background_save": true
        },
        "id": "I2a2q5Je__bM",
        "outputId": "b8592a5e-328e-406e-d749-6ec4af22db6b"
      },
      "source": [
        "loss, acc = new_model.evaluate(X_test, y_test, verbose=1)"
      ],
      "execution_count": null,
      "outputs": [
        {
          "output_type": "stream",
          "text": [
            "2/2 [==============================] - 8s 3s/step - loss: 0.9159 - accuracy: 0.9062\n"
          ],
          "name": "stdout"
        }
      ]
    },
    {
      "cell_type": "code",
      "metadata": {
        "colab": {
          "background_save": true
        },
        "id": "2UwtIwns2Fj1",
        "outputId": "ce004abf-29e3-4b28-d9a4-5334981c6d10"
      },
      "source": [
        "def pred_one_img(img):\n",
        "   img=cv2.resize(img,(480,640))\n",
        "   img=img/255.0\n",
        "   img = img.reshape(img.shape + (1,))\n",
        "   return img\n",
        "img=pred_one_img(cv2.imread(\"/content/Covid-19 Image Dataset/test/Covid/0111.jpg\",0))\n",
        "prediction=new_model.predict(np.expand_dims(img,axis=0))\n",
        "print(np.where(prediction[0]==max(prediction[0]))[0])"
      ],
      "execution_count": null,
      "outputs": [
        {
          "output_type": "stream",
          "text": [
            "[0]\n"
          ],
          "name": "stdout"
        }
      ]
    },
    {
      "cell_type": "code",
      "metadata": {
        "colab": {
          "background_save": true
        },
        "id": "4JZQkVNInN26",
        "outputId": "a6633602-e2aa-4c69-ed0d-51d517a09dbc"
      },
      "source": [
        "!pip install flask_ngrok"
      ],
      "execution_count": null,
      "outputs": [
        {
          "output_type": "stream",
          "text": [
            "Requirement already satisfied: flask_ngrok in /usr/local/lib/python3.7/dist-packages (0.0.25)\n",
            "Requirement already satisfied: requests in /usr/local/lib/python3.7/dist-packages (from flask_ngrok) (2.23.0)\n",
            "Requirement already satisfied: Flask>=0.8 in /usr/local/lib/python3.7/dist-packages (from flask_ngrok) (1.1.4)\n",
            "Requirement already satisfied: idna<3,>=2.5 in /usr/local/lib/python3.7/dist-packages (from requests->flask_ngrok) (2.10)\n",
            "Requirement already satisfied: certifi>=2017.4.17 in /usr/local/lib/python3.7/dist-packages (from requests->flask_ngrok) (2021.5.30)\n",
            "Requirement already satisfied: urllib3!=1.25.0,!=1.25.1,<1.26,>=1.21.1 in /usr/local/lib/python3.7/dist-packages (from requests->flask_ngrok) (1.24.3)\n",
            "Requirement already satisfied: chardet<4,>=3.0.2 in /usr/local/lib/python3.7/dist-packages (from requests->flask_ngrok) (3.0.4)\n",
            "Requirement already satisfied: itsdangerous<2.0,>=0.24 in /usr/local/lib/python3.7/dist-packages (from Flask>=0.8->flask_ngrok) (1.1.0)\n",
            "Requirement already satisfied: Jinja2<3.0,>=2.10.1 in /usr/local/lib/python3.7/dist-packages (from Flask>=0.8->flask_ngrok) (2.11.3)\n",
            "Requirement already satisfied: click<8.0,>=5.1 in /usr/local/lib/python3.7/dist-packages (from Flask>=0.8->flask_ngrok) (7.1.2)\n",
            "Requirement already satisfied: Werkzeug<2.0,>=0.15 in /usr/local/lib/python3.7/dist-packages (from Flask>=0.8->flask_ngrok) (1.0.1)\n",
            "Requirement already satisfied: MarkupSafe>=0.23 in /usr/local/lib/python3.7/dist-packages (from Jinja2<3.0,>=2.10.1->Flask>=0.8->flask_ngrok) (2.0.1)\n"
          ],
          "name": "stdout"
        }
      ]
    },
    {
      "cell_type": "code",
      "metadata": {
        "id": "AnaaYkd14uKY"
      },
      "source": [
        "from flask_ngrok import run_with_ngrok\n",
        "from flask import Flask, request, render_template\n",
        "app=Flask(__name__, template_folder='/content/templates', static_folder='/content/templates')\n",
        "run_with_ngrok(app)\n",
        "@app.route(\"/\")\n",
        "def home():\n",
        "  return render_template(\"index.html\")\n",
        "@app.route(\"/predict\",methods=['POST'])\n",
        "def predict():\n",
        "  f=request.files['file']\n",
        "  f.save(f.filename)\n",
        "  def pred_one_img(img):\n",
        "    img=cv2.resize(img,(480,640))\n",
        "    img=img/255.0\n",
        "    img = img.reshape(img.shape + (1,))\n",
        "    return img\n",
        "  img=pred_one_img(cv2.imread(\"/content/\"+str(f.filename),0))\n",
        "  prediction=new_model.predict(np.expand_dims(img,axis=0))\n",
        "  class_level=np.where(prediction[0]==max(prediction[0]))[0][0]\n",
        "  if(class_level==0):\n",
        "    cls=\"COVID\"\n",
        "  elif(class_level==1):\n",
        "    cls=\"Normal\"\n",
        "  else:\n",
        "    cls=\"Viral Pneumonia\"\n",
        "  return render_template(\"index.html\", Prediction=cls)\n",
        "\n",
        "app.run()"
      ],
      "execution_count": null,
      "outputs": []
    }
  ]
}